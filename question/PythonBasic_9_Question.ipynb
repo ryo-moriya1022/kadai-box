{
  "cells": [
    {
      "attachments": {},
      "cell_type": "markdown",
      "metadata": {
        "id": "i_oQ7a1-uMsS"
      },
      "source": [
        "<a href=\"https://colab.research.google.com/github/kiryu-3/Prmn2023/blob/main/Python/Python_Basic/question/PythonBasic_9_Question.ipynb\" target=\"_parent\"><img src=\"https://colab.research.google.com/assets/colab-badge.svg\" alt=\"Open In Colab\"/></a>"
      ]
    },
    {
      "attachments": {},
      "cell_type": "markdown",
      "metadata": {
        "id": "jQqGrJNkuFDD"
      },
      "source": [
        "# オブジェクト指向2 課題"
      ]
    },
    {
      "attachments": {},
      "cell_type": "markdown",
      "metadata": {
        "id": "1DGEULJlZLkL"
      },
      "source": [
        "## 課題1"
      ]
    },
    {
      "attachments": {},
      "cell_type": "markdown",
      "metadata": {
        "id": "he1ry54qZP56"
      },
      "source": [
        "以下の要件を満たすクラスを作成してください"
      ]
    },
    {
      "attachments": {},
      "cell_type": "markdown",
      "metadata": {
        "id": "PkJ0b9znZUMi"
      },
      "source": [
        "**指示**\n",
        "\n",
        "・ moveメソッド内で「歩いたよ」と出力するInsectクラスを作る  \n",
        "\n",
        "・ moveメソッド内で「飛んだよ」と出力するButterflyクラスを作る   \n",
        "　 このとき、ButterflyクラスはInsectクラスを継承する  \n",
        "\n",
        "・ moveメソッド内で「跳んだよ」と出力するLocustクラスを作る   \n",
        "　 このとき、LocustクラスはInsectクラスを継承する  \n",
        "\n",
        "・ moveメソッド内で「綺麗に飛んだよ」と出力するSwallowtailButterflyクラスを作る   \n",
        "　 このとき、SwallowtailButterflyクラスはButterflyクラスを継承する \n",
        "\n",
        "\n",
        "\n"
      ]
    },
    {
      "attachments": {},
      "cell_type": "markdown",
      "metadata": {
        "id": "sgs0j4slcDD9"
      },
      "source": [
        "4つのクラスのインスタンスをリストinsect_listに格納してください。  \n",
        "その後、格納した4つのインスタンスからmoveメソッドを呼び出してください。"
      ]
    },
    {
      "cell_type": "code",
      "execution_count": 8,
      "metadata": {
        "id": "p1fSdDIhrYbf"
      },
      "outputs": [
        {
          "name": "stdout",
          "output_type": "stream",
          "text": [
            "歩いたよ\n",
            "飛んだよ\n",
            "跳んだよ\n",
            "綺麗に飛んだよ\n"
          ]
        }
      ],
      "source": [
        "class Insect:\n",
        "    def move(self):\n",
        "        self.move=print(\"歩いたよ\")\n",
        "class butterfly(Insect):\n",
        "    def move(self):\n",
        "        self.move=print(\"飛んだよ\")\n",
        "class Locust(Insect):\n",
        "    def move(self):\n",
        "        self.move=print(\"跳んだよ\")\n",
        "class SwallowtailButterfly(butterfly):\n",
        "    def move(self):\n",
        "        self.move=print(\"綺麗に飛んだよ\") #敬称する意味あるのかな…\n",
        "insect=Insect()\n",
        "butterflys=butterfly()\n",
        "locust=Locust()\n",
        "swallowtailButterfly=SwallowtailButterfly()\n",
        "insect_list=[insect,butterflys,locust,swallowtailButterfly]\n",
        "for ins in insect_list:\n",
        "    ins.move()\n",
        "\n"
      ]
    },
    {
      "attachments": {},
      "cell_type": "markdown",
      "metadata": {
        "id": "sxV6gRm8djFh"
      },
      "source": [
        "## 課題2\n",
        "\n"
      ]
    },
    {
      "attachments": {},
      "cell_type": "markdown",
      "metadata": {
        "id": "AXc3PV3ddkyJ"
      },
      "source": [
        "以下の要件を満たすクラスを作成してください"
      ]
    },
    {
      "attachments": {},
      "cell_type": "markdown",
      "metadata": {
        "id": "kvvx9u5Kdh8i"
      },
      "source": [
        "\n",
        "**指示**\n",
        "\n",
        " ・ クラス名は Car、属性として変数fuelを持つ \n",
        "\n",
        " ・ 引数なしコンストラクタでfuelを0で初期化する  \n",
        "\n",
        " ・ メソッドとして戻り値、引数無しのrun() を持つ  \n",
        " ・ run()メソッドではfuelを1消費して、走ったことが分かる文言を表示させる  \n",
        "     \t  　（例:  \"燃料を1消費して走りました。\"）    \n",
        "\n",
        " ・ fuelが0以下の時走れなかったことが分かる文言を表示させる  \n",
        "        \n",
        "\n",
        "\n"
      ]
    },
    {
      "attachments": {},
      "cell_type": "markdown",
      "metadata": {
        "id": "SjRCbbdVd2cE"
      },
      "source": [
        "Carに給油をするGasStationクラスを作成してください    \n",
        "\n",
        "・ クラス名はGasStation、コンストラクタ無し\n",
        "\n",
        "・ refuel()メソッドを持つ  \n",
        "\n",
        "・ refuel()ではCarのfuelを20増やす  \n",
        "\n",
        "・ refuel()では給油したことが分かる文言を表示する"
      ]
    },
    {
      "attachments": {},
      "cell_type": "markdown",
      "metadata": {
        "id": "EN_PqJln9lFu"
      },
      "source": [
        "今回はCarクラスを継承したBusクラスを作っていきましょう。"
      ]
    },
    {
      "attachments": {},
      "cell_type": "markdown",
      "metadata": {
        "id": "H7G5D42r9vE1"
      },
      "source": [
        "**指示**\n",
        "\n",
        "・ クラス名は Bus、Carクラスを継承する \n",
        "\n",
        "・ Carクラスの属性に加えて、乗車定員を表す属性max_passenger（コンストラクタで定義）と、  \n",
        " 　 現在の乗員数を表す属性passenger（最初は0人）を定義する\n",
        "\n",
        "・ load()メソッドで、指定した人数をバスに乗せたり降ろしたりできるようにする    \n",
        "  （乗員数がマイナスにならないように注意する） \n",
        "\n",
        "・ 正の値を指定した場合はバスに乗せ、負の値を指定した場合はバスから降ろす  \n",
        "\n",
        "・ 乗車定員をオーバーしたらその旨を出力する。だが、客をさらに乗せることは可能にする\n",
        "        "
      ]
    },
    {
      "attachments": {},
      "cell_type": "markdown",
      "metadata": {
        "id": "nusSAbPjKb4h"
      },
      "source": [
        "＜メイン部分のコード（固定）＞"
      ]
    },
    {
      "cell_type": "code",
      "execution_count": null,
      "metadata": {
        "id": "qrDPJfQjKevB"
      },
      "outputs": [],
      "source": [
        "bus = Bus(50)\n",
        "gasstation = GasStation()\n",
        "\n",
        "bus.run()\n",
        "gasstation.refuel(bus)\n",
        "bus.run()\n",
        "\n",
        "bus.load(20)\n",
        "bus.load(-30)\n",
        "bus.load(60)\n",
        "bus.run()"
      ]
    },
    {
      "attachments": {},
      "cell_type": "markdown",
      "metadata": {
        "id": "p0JrYtsAIvzU"
      },
      "source": [
        "＜実行結果例＞  \n",
        "```\n",
        "燃料が足りないため走れませんでした。\n",
        "給油したことにより、fuelが20増えました。\n",
        "燃料を1消費して走りました。\n",
        "20人の客を乗せました\n",
        "現在の乗客数は20人です\n",
        "20人すべての乗客を降ろしました\n",
        "現在の乗客数は0人です\n",
        "60人の客を乗せました\n",
        "現在の乗客数は60人です\n",
        "乗車定員は50人です。定員オーバーです\n",
        "燃料を1消費して走りました。\n",
        "```"
      ]
    },
    {
      "cell_type": "code",
      "execution_count": 30,
      "metadata": {
        "id": "PonrNBwVO69b"
      },
      "outputs": [
        {
          "name": "stdout",
          "output_type": "stream",
          "text": [
            "燃料がないため走れません\n",
            "給油したことによりfuelが20増えました\n",
            "燃料を1消費して走りました\n",
            "20人の乗客を乗せました。現在の乗客人数20\n",
            "20人すべての乗客をおろしました 現在の乗客人数0\n",
            "定員オーバー50人の乗客を乗せました。現在の乗客人数50\n",
            "燃料を1消費して走りました\n"
          ]
        }
      ],
      "source": [
        "class Car:\n",
        "    def __init__(self):\n",
        "        self.fuel =0\n",
        "    def run(self):\n",
        "        if self.fuel>0:\n",
        "            self.fuel=self.fuel-1\n",
        "            print(\"燃料を1消費して走りました\")\n",
        "        else:\n",
        "            print(\"燃料がないため走れません\")\n",
        "class GasStation:\n",
        "    def refuel(self,car): \n",
        "        car.fuel=car.fuel+20\n",
        "        print(\"給油したことによりfuelが20増えました\")\n",
        "class Bus(Car):\n",
        "    def __init__(self,max_p):\n",
        "        super().__init__()\n",
        "        self.max_passenger=max_p\n",
        "        self.passenger=0\n",
        "    def run(self):\n",
        "        super().run()\n",
        "    def load (self,human):\n",
        "        maxs=\"\"\n",
        "        word=\"\"\n",
        "        if human<0:\n",
        "            self.passenger=self.passenger+human\n",
        "            if self.passenger<0:\n",
        "                human=human-self.passenger\n",
        "                self.passenger=0 #乗客人数を-にならないようにしてる\n",
        "                word=\"すべて\"\n",
        "            print(\"{}人{}の乗客をおろしました 現在の乗客人数{}\".format(-human,word,self.passenger))\n",
        "        elif human>=0:\n",
        "            self.passenger=self.passenger+human\n",
        "            if self.passenger>self.max_passenger:\n",
        "                human=human+self.max_passenger-self.passenger#載れるだけのせる\n",
        "                self.passenger=self.max_passenger #乗客人数を最大以上にならないようにしてる\n",
        "                maxs=\"定員オーバー\"\n",
        "            print(\"{}{}人の乗客を乗せました。現在の乗客人数{}\".format(maxs,human,self.passenger))\n",
        "bus = Bus(50)\n",
        "gasstation = GasStation()\n",
        "bus.run()\n",
        "gasstation.refuel(bus)\n",
        "bus.run()\n",
        "\n",
        "bus.load(20)\n",
        "bus.load(-30)\n",
        "bus.load(60)\n",
        "bus.run()"
      ]
    },
    {
      "attachments": {},
      "cell_type": "markdown",
      "metadata": {
        "id": "8kY7RnsKL9wd"
      },
      "source": [
        "## 課題3"
      ]
    },
    {
      "attachments": {},
      "cell_type": "markdown",
      "metadata": {
        "id": "ad8pyx_wL_zs"
      },
      "source": [
        "以下の要件を満たすクラスを作成してください"
      ]
    },
    {
      "attachments": {},
      "cell_type": "markdown",
      "metadata": {
        "id": "3aCcTxAaMFds"
      },
      "source": [
        "**指示**\n",
        "\n",
        " Car クラスのrun()メソッドをBusクラス内でオーバーライドしてください  \n",
        "\n",
        "・ 乗客数が乗車定員を超えていたらバスが動けない旨を出力する  \n",
        "\n",
        "・ 何人降りれば動けるようになるか（乗車定員まで乗客を減らせるか）も同時に出力する\n"
      ]
    },
    {
      "attachments": {},
      "cell_type": "markdown",
      "metadata": {
        "id": "8wmrvEJjLOwa"
      },
      "source": [
        "＜メイン部分のコード（固定）＞"
      ]
    },
    {
      "cell_type": "code",
      "execution_count": 31,
      "metadata": {
        "id": "SHOfbPrwLL7v"
      },
      "outputs": [
        {
          "name": "stdout",
          "output_type": "stream",
          "text": [
            "燃料がないため走れません\n",
            "給油したことによりfuelが20増えました\n",
            "燃料を1消費して走りました\n",
            "20人の乗客を乗せました。現在の乗客人数20\n",
            "20人すべての乗客をおろしました 現在の乗客人数0\n",
            "定員オーバー50人の乗客を乗せました。現在の乗客人数50\n",
            "燃料を1消費して走りました\n",
            "30人の乗客をおろしました 現在の乗客人数20\n",
            "燃料を1消費して走りました\n"
          ]
        }
      ],
      "source": [
        "bus = Bus(50)\n",
        "gasstation = GasStation()\n",
        "\n",
        "bus.run()\n",
        "gasstation.refuel(bus)\n",
        "bus.run()\n",
        "\n",
        "bus.load(20)\n",
        "bus.load(-30)\n",
        "bus.load(60)\n",
        "bus.run()\n",
        "bus.load(-30)\n",
        "bus.run()"
      ]
    },
    {
      "attachments": {},
      "cell_type": "markdown",
      "metadata": {
        "id": "wY1QAZeKMrwx"
      },
      "source": [
        "＜実行結果例＞\n",
        "\n",
        "```\n",
        "燃料が足りないため走れませんでした。\n",
        "給油したことにより、fuelが20増えました。\n",
        "燃料を1消費して走りました。\n",
        "20人の客を乗せました\n",
        "現在の乗客数は20人です\n",
        "20人すべての乗客を降ろしました\n",
        "現在の乗客数は0人です\n",
        "60人の客を乗せました\n",
        "現在の乗客数は60人です\n",
        "乗車定員は50人です。定員オーバーです\n",
        "乗車定員なので走れません\n",
        "最低でも10人降りる必要があります\n",
        "30人の乗客を降ろしました\n",
        "現在の乗客数は30人です\n",
        "燃料を1消費して走りました。\n",
        "```"
      ]
    },
    {
      "cell_type": "code",
      "execution_count": null,
      "metadata": {
        "id": "w0h5DhqvO8VH"
      },
      "outputs": [],
      "source": [
        "# 入力用\n"
      ]
    }
  ],
  "metadata": {
    "colab": {
      "provenance": []
    },
    "kernelspec": {
      "display_name": "Python 3",
      "name": "python3"
    },
    "language_info": {
      "codemirror_mode": {
        "name": "ipython",
        "version": 3
      },
      "file_extension": ".py",
      "mimetype": "text/x-python",
      "name": "python",
      "nbconvert_exporter": "python",
      "pygments_lexer": "ipython3",
      "version": "3.11.3"
    }
  },
  "nbformat": 4,
  "nbformat_minor": 0
}
