{
  "cells": [
    {
      "attachments": {},
      "cell_type": "markdown",
      "metadata": {
        "colab_type": "text",
        "id": "view-in-github"
      },
      "source": [
        "<a href=\"https://colab.research.google.com/github/kiryu-3/Prmn2023/blob/main/Python/Python_Basic/question/PythonBasic_2_Question.ipynb\" target=\"_parent\"><img src=\"https://colab.research.google.com/assets/colab-badge.svg\" alt=\"Open In Colab\"/></a>"
      ]
    },
    {
      "attachments": {},
      "cell_type": "markdown",
      "metadata": {
        "id": "C44SsXDACtHu"
      },
      "source": [
        "# 第2章 課題"
      ]
    },
    {
      "attachments": {},
      "cell_type": "markdown",
      "metadata": {
        "id": "OnkezWHRCwr9"
      },
      "source": [
        "## 課題1"
      ]
    },
    {
      "attachments": {},
      "cell_type": "markdown",
      "metadata": {
        "id": "q32rK-cECzCl"
      },
      "source": [
        "for文を使って、以下のように出力してください"
      ]
    },
    {
      "attachments": {},
      "cell_type": "markdown",
      "metadata": {
        "id": "FxMcxznVB6cI"
      },
      "source": [
        "![oSFeQoX.png](https://i.imgur.com/oSFeQoX.png)"
      ]
    },
    {
      "cell_type": "code",
      "execution_count": 15,
      "metadata": {
        "id": "iBFSsrdRC5Zt"
      },
      "outputs": [
        {
          "name": "stdout",
          "output_type": "stream",
          "text": [
            "   *\n",
            "  ***\n",
            " *****\n",
            "*******\n"
          ]
        }
      ],
      "source": [
        "for i in range(4):\n",
        "    for m in range(3-i):\n",
        "        print(\" \",end='')\n",
        "    for j in range((i+1)*2-1):\n",
        "        print(\"*\",end='')\n",
        "    print(\"\\n\",end='')"
      ]
    },
    {
      "attachments": {},
      "cell_type": "markdown",
      "metadata": {
        "id": "gIn-UqGTCagu"
      },
      "source": [
        "## 課題2"
      ]
    },
    {
      "attachments": {},
      "cell_type": "markdown",
      "metadata": {
        "id": "ltdiEdqYDFy8"
      },
      "source": [
        "課題1の場合を`n=4`として、nを自分で設定して出力できるようにしてください"
      ]
    },
    {
      "attachments": {},
      "cell_type": "markdown",
      "metadata": {
        "id": "hw0FM8BRDHz1"
      },
      "source": [
        "＜例＞ n=5の場合  \n",
        "![o5NjugQ.png](https://imgur.com/o5NjugQ.png)"
      ]
    },
    {
      "cell_type": "code",
      "execution_count": 4,
      "metadata": {
        "id": "upd76Tv-FrIB"
      },
      "outputs": [
        {
          "name": "stdout",
          "output_type": "stream",
          "text": [
            "   *\n",
            "  ***\n",
            " *****\n",
            "*******\n"
          ]
        }
      ],
      "source": [
        "n=4\n",
        "for i in range(n):\n",
        "    for m in range(n-1-i):\n",
        "        print(\" \",end='')\n",
        "    for j in range((i+1)*2-1):\n",
        "        print(\"*\",end='')\n",
        "    print(\"\\n\",end='')\n"
      ]
    },
    {
      "attachments": {},
      "cell_type": "markdown",
      "metadata": {
        "id": "tLMJvwBDE7wT"
      },
      "source": [
        "## 課題3"
      ]
    },
    {
      "attachments": {},
      "cell_type": "markdown",
      "metadata": {
        "id": "vZNvWsG7E99q"
      },
      "source": [
        "for文を使って、以下のように出力してください"
      ]
    },
    {
      "attachments": {},
      "cell_type": "markdown",
      "metadata": {
        "id": "ijOV-ilXGDNR"
      },
      "source": [
        "![oSirXec.png](https://imgur.com/oSirXec.png)"
      ]
    },
    {
      "cell_type": "code",
      "execution_count": 19,
      "metadata": {
        "id": "Q5Ob9uZpGIE3"
      },
      "outputs": [
        {
          "name": "stdout",
          "output_type": "stream",
          "text": [
            "   *\n",
            "  ***\n",
            " *****\n",
            "*******\n",
            " *****\n",
            "  ***\n",
            "   *\n"
          ]
        }
      ],
      "source": [
        "n=7\n",
        "for i in range(n):\n",
        "    h=int(n/2)\n",
        "    if i<=h:\n",
        "        for m in range(h-i):\n",
        "            print(\" \",end='')\n",
        "        for j in range((i+1)*2-1):\n",
        "            print(\"*\",end='')\n",
        "        print(\"\\n\",end='')\n",
        "    else:\n",
        "        for m in range(i-3):\n",
        "            print(\" \",end='')\n",
        "        for j in range((7-i)*2-1):\n",
        "            print(\"*\",end='')\n",
        "        print(\"\\n\",end='')\n"
      ]
    },
    {
      "attachments": {},
      "cell_type": "markdown",
      "metadata": {
        "id": "Oh7whOPkGQ3I"
      },
      "source": [
        "## 課題4"
      ]
    },
    {
      "attachments": {},
      "cell_type": "markdown",
      "metadata": {
        "id": "PnvT8MQbGS03"
      },
      "source": [
        "課題3の場合を`n=4`として、nを自分で設定して出力できるようにしてください"
      ]
    },
    {
      "attachments": {},
      "cell_type": "markdown",
      "metadata": {
        "id": "ZujkAbVMGzhn"
      },
      "source": [
        "＜例＞ n=5の場合  \n",
        "\n",
        "![my4J17V.png](https://i.imgur.com/my4J17V.png)"
      ]
    },
    {
      "cell_type": "code",
      "execution_count": 25,
      "metadata": {
        "id": "hCFNQ7mWG99u"
      },
      "outputs": [
        {
          "name": "stdout",
          "output_type": "stream",
          "text": [
            "   *\n",
            "  ***\n",
            " *****\n",
            "*******\n",
            " *****\n",
            "  ***\n"
          ]
        }
      ],
      "source": [
        "n=6\n",
        "if 1==n%2:\n",
        "    for i in range(n):\n",
        "        h=int(n/2)\n",
        "        if i<=h:\n",
        "            for m in range(h-i):\n",
        "                print(\" \",end='')\n",
        "            for j in range((i+1)*2-1):\n",
        "                print(\"*\",end='')\n",
        "            print(\"\\n\",end='')\n",
        "        else:\n",
        "            for m in range(i-h):\n",
        "                print(\" \",end='')\n",
        "            for j in range((n-i)*2-1):\n",
        "                print(\"*\",end='')\n",
        "            print(\"\\n\",end='')\n",
        "else:\n",
        "    for i in range(n):\n",
        "        h=int(n/2)\n",
        "        if i<=h:\n",
        "            for m in range(h-i):\n",
        "                print(\" \",end='')\n",
        "            for j in range((i+1)*2-1):\n",
        "                print(\"*\",end='')\n",
        "            print(\"\\n\",end='')\n",
        "        else:\n",
        "            for m in range(i-h):\n",
        "                print(\" \",end='')\n",
        "            for j in range((n-i)*2+1):\n",
        "                print(\"*\",end='')\n",
        "            print(\"\\n\",end='')\n"
      ]
    },
    {
      "attachments": {},
      "cell_type": "markdown",
      "metadata": {
        "id": "R2MvOK4wHJlK"
      },
      "source": [
        "## 課題5"
      ]
    },
    {
      "attachments": {},
      "cell_type": "markdown",
      "metadata": {
        "id": "ddMIUoaKHcwd"
      },
      "source": [
        "for文を使って、以下のように出力してください"
      ]
    },
    {
      "attachments": {},
      "cell_type": "markdown",
      "metadata": {
        "id": "CD1cVUlWHLVO"
      },
      "source": [
        "![vDUi5eM.png](https://imgur.com/vDUi5eM.png)"
      ]
    },
    {
      "cell_type": "code",
      "execution_count": 34,
      "metadata": {
        "id": "1pDkfJpUHd93"
      },
      "outputs": [
        {
          "name": "stdout",
          "output_type": "stream",
          "text": [
            "   *     *\n",
            "  ***   ***\n",
            " ***** *****\n",
            "*************\n",
            " ***** *****\n",
            "  ***   ***\n",
            "   *     *\n"
          ]
        }
      ],
      "source": [
        "n=7\n",
        "for i in range(n):\n",
        "    h=int(n/2)\n",
        "    if i<=h:\n",
        "        for m in range(h-i):\n",
        "            print(\" \",end='')\n",
        "        for j in range((i+1)*2-1):\n",
        "            print(\"*\",end='')\n",
        "        for k in range(n-(i+1)*2):\n",
        "            print(\" \",end='')\n",
        "        if i!=3:\n",
        "            for j in range((i+1)*2-1):\n",
        "                print(\"*\",end='')\n",
        "        else:\n",
        "            for j in range((i+1)*2-2):\n",
        "                print(\"*\",end='')\n",
        "        print(\"\\n\",end='')\n",
        "    else:\n",
        "        for m in range(i-h):\n",
        "            print(\" \",end='')\n",
        "        for j in range((n-i)*2-1):\n",
        "            print(\"*\",end='')\n",
        "        for j in range((i-h)*2-1):\n",
        "            print(\" \",end='')\n",
        "        for j in range((n-i)*2-1):\n",
        "            print(\"*\",end='')\n",
        "        print(\"\\n\",end='')\n"
      ]
    },
    {
      "attachments": {},
      "cell_type": "markdown",
      "metadata": {
        "id": "oubbafOBHerl"
      },
      "source": [
        "## 課題6"
      ]
    },
    {
      "attachments": {},
      "cell_type": "markdown",
      "metadata": {
        "id": "7SzgFdC-HzG9"
      },
      "source": [
        "課題5の場合を`n=4`として、nを自分で設定して出力できるようにしてください"
      ]
    },
    {
      "attachments": {},
      "cell_type": "markdown",
      "metadata": {
        "id": "LY8g9PVPH2OW"
      },
      "source": [
        "＜例＞ n=5の場合  \n",
        "\n",
        "![udkVlYG.png](https://imgur.com/udkVlYG.png)"
      ]
    },
    {
      "cell_type": "code",
      "execution_count": 41,
      "metadata": {
        "id": "XZOK5ulbH-tu"
      },
      "outputs": [
        {
          "name": "stdout",
          "output_type": "stream",
          "text": [
            "  *   *\n",
            " *** ***\n",
            "*********\n",
            " *** ***\n"
          ]
        }
      ],
      "source": [
        "n=4\n",
        "if 1==n%2:\n",
        "    for i in range(n):\n",
        "        h=int(n/2)\n",
        "        if i<=h:\n",
        "            for m in range(h-i):\n",
        "                print(\" \",end='')\n",
        "            for j in range((i+1)*2-1):\n",
        "                print(\"*\",end='')\n",
        "            for k in range(n-(i+1)*2):\n",
        "                print(\" \",end='')\n",
        "            if i!=h:\n",
        "                for j in range((i+1)*2-1):\n",
        "                    print(\"*\",end='')\n",
        "            elif i==h:\n",
        "                for j in range((i+1)*2-2):\n",
        "                    print(\"*\",end='')\n",
        "            print(\"\\n\",end='')\n",
        "        else:\n",
        "            for m in range(i-h):\n",
        "                print(\" \",end='')\n",
        "            for j in range((n-i)*2-1):\n",
        "                print(\"*\",end='')\n",
        "            for j in range((i-h)*2-1):\n",
        "                print(\" \",end='')\n",
        "            for j in range((n-i)*2-1):\n",
        "                print(\"*\",end='')\n",
        "            print(\"\\n\",end='')\n",
        "else:\n",
        "    for i in range(n):\n",
        "        h=int(n/2)\n",
        "        if i<=h:\n",
        "            for m in range(h-i):\n",
        "                print(\" \",end='')\n",
        "            for j in range((i+1)*2-1):\n",
        "                print(\"*\",end='')\n",
        "            for k in range(n-(i+1)*2+1):\n",
        "                print(\" \",end='')\n",
        "            if i!=h:\n",
        "                for j in range((i+1)*2-1):\n",
        "                    print(\"*\",end='')\n",
        "            elif i==h:\n",
        "                for j in range((i+1)*2-2):\n",
        "                    print(\"*\",end='')\n",
        "            print(\"\\n\",end='')\n",
        "        else:\n",
        "            for m in range(i-h):\n",
        "                print(\" \",end='')\n",
        "            for j in range((n-i)*2+1):\n",
        "                print(\"*\",end='')\n",
        "            for j in range((i-h)*2-1):\n",
        "                print(\" \",end='')\n",
        "            for j in range((n-i)*2+1):\n",
        "                print(\"*\",end='')\n",
        "            print(\"\\n\",end='')"
      ]
    },
    {
      "attachments": {},
      "cell_type": "markdown",
      "metadata": {
        "id": "ouqTUmPQIKGF"
      },
      "source": [
        "## 課題7"
      ]
    },
    {
      "attachments": {},
      "cell_type": "markdown",
      "metadata": {
        "id": "WHSxdOHuIMRM"
      },
      "source": [
        "for文を使って、以下のように出力してください"
      ]
    },
    {
      "attachments": {},
      "cell_type": "markdown",
      "metadata": {
        "id": "-G--WFTkIM8s"
      },
      "source": [
        "![IuP0M16.png](https://imgur.com/IuP0M16.png)"
      ]
    },
    {
      "cell_type": "code",
      "execution_count": 37,
      "metadata": {
        "id": "BVXjDteuIijL"
      },
      "outputs": [
        {
          "name": "stdout",
          "output_type": "stream",
          "text": [
            "   *     *\n",
            "  ***   ***\n",
            " ***** *****\n",
            "*************\n",
            " ***** *****\n",
            "  ***   ***\n",
            "   *     *\n",
            "  ***   ***\n",
            " ***** *****\n",
            "*************\n",
            " ***** *****\n",
            "  ***   ***\n",
            "   *     *\n"
          ]
        }
      ],
      "source": [
        "n=7\n",
        "for i in range(n):\n",
        "    h=int(n/2)\n",
        "    if i<=h:\n",
        "        for m in range(h-i):\n",
        "            print(\" \",end='')\n",
        "        for j in range((i+1)*2-1):\n",
        "            print(\"*\",end='')\n",
        "        for k in range(n-(i+1)*2):\n",
        "            print(\" \",end='')\n",
        "        if i!=3:\n",
        "            for j in range((i+1)*2-1):\n",
        "                print(\"*\",end='')\n",
        "        else:\n",
        "            for j in range((i+1)*2-2):\n",
        "                print(\"*\",end='')\n",
        "        print(\"\\n\",end='')\n",
        "    else:\n",
        "        for m in range(i-h):\n",
        "            print(\" \",end='')\n",
        "        for j in range((n-i)*2-1):\n",
        "            print(\"*\",end='')\n",
        "        for j in range((i-h)*2-1):\n",
        "            print(\" \",end='')\n",
        "        for j in range((n-i)*2-1):\n",
        "            print(\"*\",end='')\n",
        "        print(\"\\n\",end='')\n",
        "for i in range(1,n):\n",
        "    h=int(n/2)\n",
        "    if i<=h:\n",
        "        for m in range(h-i):\n",
        "            print(\" \",end='')\n",
        "        for j in range((i+1)*2-1):\n",
        "            print(\"*\",end='')\n",
        "        for k in range(n-(i+1)*2):\n",
        "            print(\" \",end='')\n",
        "        if i!=3:\n",
        "            for j in range((i+1)*2-1):\n",
        "                print(\"*\",end='')\n",
        "        else:\n",
        "            for j in range((i+1)*2-2):\n",
        "                print(\"*\",end='')\n",
        "        print(\"\\n\",end='')\n",
        "    else:\n",
        "        for m in range(i-h):\n",
        "            print(\" \",end='')\n",
        "        for j in range((n-i)*2-1):\n",
        "            print(\"*\",end='')\n",
        "        for j in range((i-h)*2-1):\n",
        "            print(\" \",end='')\n",
        "        for j in range((n-i)*2-1):\n",
        "            print(\"*\",end='')\n",
        "        print(\"\\n\",end='')\n"
      ]
    },
    {
      "attachments": {},
      "cell_type": "markdown",
      "metadata": {
        "id": "31u0ExX2IjWj"
      },
      "source": [
        "## 課題8"
      ]
    },
    {
      "attachments": {},
      "cell_type": "markdown",
      "metadata": {
        "id": "zeOvmKarInpz"
      },
      "source": [
        "課題7の場合を`n=4`として、nを自分で設定して出力できるようにしてください"
      ]
    },
    {
      "attachments": {},
      "cell_type": "markdown",
      "metadata": {
        "id": "2uLR5sbKIov2"
      },
      "source": [
        "＜例＞ n=5の場合  \n",
        "\n",
        "![AlTnu1k.png](https://imgur.com/AlTnu1k.png)"
      ]
    },
    {
      "cell_type": "code",
      "execution_count": 46,
      "metadata": {
        "id": "TXJaIVbYI_Cd"
      },
      "outputs": [
        {
          "name": "stdout",
          "output_type": "stream",
          "text": [
            "  *   *\n",
            " *** ***\n",
            "*********\n",
            " *** ***\n",
            "  *   *\n",
            " *** ***\n",
            "*********\n",
            " *** ***\n"
          ]
        }
      ],
      "source": [
        "n=4\n",
        "if 1==n%2:\n",
        "    for i in range(n):\n",
        "        h=int(n/2)\n",
        "        if i<=h:\n",
        "            for m in range(h-i):\n",
        "                print(\" \",end='')\n",
        "            for j in range((i+1)*2-1):\n",
        "                print(\"*\",end='')\n",
        "            for k in range(n-(i+1)*2):\n",
        "                print(\" \",end='')\n",
        "            if i!=h:\n",
        "                for j in range((i+1)*2-1):\n",
        "                    print(\"*\",end='')\n",
        "            elif i==h:\n",
        "                for j in range((i+1)*2-2):\n",
        "                    print(\"*\",end='')\n",
        "            print(\"\\n\",end='')\n",
        "        else:\n",
        "            for m in range(i-h):\n",
        "                print(\" \",end='')\n",
        "            for j in range((n-i)*2-1):\n",
        "                print(\"*\",end='')\n",
        "            for j in range((i-h)*2-1):\n",
        "                print(\" \",end='')\n",
        "            for j in range((n-i)*2-1):\n",
        "                print(\"*\",end='')\n",
        "            print(\"\\n\",end='')\n",
        "    for i in range(1,n):\n",
        "        h=int(n/2)\n",
        "        if i<=h:\n",
        "            for m in range(h-i):\n",
        "                print(\" \",end='')\n",
        "            for j in range((i+1)*2-1):\n",
        "                print(\"*\",end='')\n",
        "            for k in range(n-(i+1)*2):\n",
        "                print(\" \",end='')\n",
        "            if i!=h:\n",
        "                for j in range((i+1)*2-1):\n",
        "                    print(\"*\",end='')\n",
        "            elif i==h:\n",
        "                for j in range((i+1)*2-2):\n",
        "                    print(\"*\",end='')\n",
        "            print(\"\\n\",end='')\n",
        "        else:\n",
        "            for m in range(i-h):\n",
        "                print(\" \",end='')\n",
        "            for j in range((n-i)*2-1):\n",
        "                print(\"*\",end='')\n",
        "            for j in range((i-h)*2-1):\n",
        "                print(\" \",end='')\n",
        "            for j in range((n-i)*2-1):\n",
        "                print(\"*\",end='')\n",
        "            print(\"\\n\",end='')\n",
        "else:\n",
        "    for i in range(n):\n",
        "        h=int(n/2)\n",
        "        if i<=h:\n",
        "            for m in range(h-i):\n",
        "                print(\" \",end='')\n",
        "            for j in range((i+1)*2-1):\n",
        "                print(\"*\",end='')\n",
        "            for k in range(n-(i+1)*2+1):\n",
        "                print(\" \",end='')\n",
        "            if i!=h:\n",
        "                for j in range((i+1)*2-1):\n",
        "                    print(\"*\",end='')\n",
        "            elif i==h:\n",
        "                for j in range((i+1)*2-2):\n",
        "                    print(\"*\",end='')\n",
        "            print(\"\\n\",end='')\n",
        "        else:\n",
        "            for m in range(i-h):\n",
        "                print(\" \",end='')\n",
        "            for j in range((n-i)*2+1):\n",
        "                print(\"*\",end='')\n",
        "            for j in range((i-h)*2-1):\n",
        "                print(\" \",end='')\n",
        "            for j in range((n-i)*2+1):\n",
        "                print(\"*\",end='')\n",
        "            print(\"\\n\",end='')\n",
        "    for i in range(n):\n",
        "        h=int(n/2)\n",
        "        if i<=h:\n",
        "            for m in range(h-i):\n",
        "                print(\" \",end='')\n",
        "            for j in range((i+1)*2-1):\n",
        "                print(\"*\",end='')\n",
        "            for k in range(n-(i+1)*2+1):\n",
        "                print(\" \",end='')\n",
        "            if i!=h:\n",
        "                for j in range((i+1)*2-1):\n",
        "                    print(\"*\",end='')\n",
        "            elif i==h:\n",
        "                for j in range((i+1)*2-2):\n",
        "                    print(\"*\",end='')\n",
        "            print(\"\\n\",end='')\n",
        "        else:\n",
        "            for m in range(i-h):\n",
        "                print(\" \",end='')\n",
        "            for j in range((n-i)*2+1):\n",
        "                print(\"*\",end='')\n",
        "            for j in range((i-h)*2-1):\n",
        "                print(\" \",end='')\n",
        "            for j in range((n-i)*2+1):\n",
        "                print(\"*\",end='')\n",
        "            print(\"\\n\",end='')\n"
      ]
    }
  ],
  "metadata": {
    "colab": {
      "authorship_tag": "ABX9TyOOVx44C9cwMpp0oDPm2eFW",
      "include_colab_link": true,
      "provenance": [],
      "toc_visible": true
    },
    "kernelspec": {
      "display_name": "Python 3",
      "name": "python3"
    },
    "language_info": {
      "codemirror_mode": {
        "name": "ipython",
        "version": 3
      },
      "file_extension": ".py",
      "mimetype": "text/x-python",
      "name": "python",
      "nbconvert_exporter": "python",
      "pygments_lexer": "ipython3",
      "version": "3.11.3"
    }
  },
  "nbformat": 4,
  "nbformat_minor": 0
}
