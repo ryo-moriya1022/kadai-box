{
  "cells": [
    {
      "cell_type": "markdown",
      "metadata": {
        "id": "kWc75ZFVvner"
      },
      "source": [
        "# 第1章 課題"
      ]
    },
    {
      "cell_type": "markdown",
      "metadata": {
        "id": "bruivG-4v2Cc"
      },
      "source": [
        "## 課題1"
      ]
    },
    {
      "cell_type": "markdown",
      "metadata": {
        "id": "OJ1NflXMv3mo"
      },
      "source": [
        "print関数を使って自分の情報を表示させる\n",
        "\n",
        "＜実行例＞ `b1998040 Chitose Taro`\n",
        "\n"
      ]
    },
    {
      "cell_type": "code",
      "execution_count": 1,
      "metadata": {
        "colab": {
          "base_uri": "https://localhost:8080/"
        },
        "id": "e-ns59REvalm",
        "outputId": "f90caeab-99a8-408b-f6e4-21a0b67935d9"
      },
      "outputs": [
        {
          "name": "stdout",
          "output_type": "stream",
          "text": [
            "b2222380 moriya ryo\n"
          ]
        }
      ],
      "source": [
        "print(\"b2222380 moriya ryo\")\n"
      ]
    },
    {
      "cell_type": "markdown",
      "metadata": {
        "id": "Y-1UjAcTwPkf"
      },
      "source": [
        "## 課題2"
      ]
    },
    {
      "cell_type": "markdown",
      "metadata": {
        "id": "HvO1SGM4wRPg"
      },
      "source": [
        "int型変数`student_number`に学籍番号の数値の部分を代入し、  \n",
        "自分の情報を表示させる\n",
        "\n",
        "＜実行例＞ `b1998040 Chitose Taro`\n",
        "\n",
        "＜hint＞ 3通りあるはずです。"
      ]
    },
    {
      "cell_type": "code",
      "execution_count": 7,
      "metadata": {
        "colab": {
          "base_uri": "https://localhost:8080/"
        },
        "id": "kXTNAYHLw1Mh",
        "outputId": "f69595f4-a1ac-4fe8-bb93-9567f4bdd5e8"
      },
      "outputs": [
        {
          "name": "stdout",
          "output_type": "stream",
          "text": [
            "b2222380moriya ryo\n"
          ]
        }
      ],
      "source": [
        "student_number=2222380\n",
        "print(\"b\"+str(student_number)+\"moriya ryo\")\n"
      ]
    },
    {
      "cell_type": "markdown",
      "metadata": {
        "id": "9Tl25UnMw-Fd"
      },
      "source": [
        "## 課題3"
      ]
    },
    {
      "cell_type": "markdown",
      "metadata": {
        "id": "2WPpYUOLw_5H"
      },
      "source": [
        "10から2800まで、10飛ばしの数を乱数で生成し、  \n",
        "2220000に足して、名前とともに表示させる\n",
        "\n",
        "＜実行例＞ `b2220010 Chitose Taro`"
      ]
    },
    {
      "cell_type": "code",
      "execution_count": 4,
      "metadata": {
        "colab": {
          "base_uri": "https://localhost:8080/",
          "height": 209
        },
        "id": "8hxJMAqQ7uQy",
        "outputId": "cef9ce70-f0ff-4407-9f46-0860966eb90b"
      },
      "outputs": [
        {
          "name": "stdout",
          "output_type": "stream",
          "text": [
            "b2222620moriya ryo\n",
            "None\n"
          ]
        }
      ],
      "source": [
        "import random as rd\n",
        "ransu=rd.randrange(10,2800,10)\n",
        "ransu=2220000+ransu\n",
        "print(print(\"b\"+str(ransu)+\"moriya ryo\"))\n"
      ]
    }
  ],
  "metadata": {
    "colab": {
      "provenance": []
    },
    "kernelspec": {
      "display_name": "Python 3",
      "name": "python3"
    },
    "language_info": {
      "codemirror_mode": {
        "name": "ipython",
        "version": 3
      },
      "file_extension": ".py",
      "mimetype": "text/x-python",
      "name": "python",
      "nbconvert_exporter": "python",
      "pygments_lexer": "ipython3",
      "version": "3.11.3"
    }
  },
  "nbformat": 4,
  "nbformat_minor": 0
}
