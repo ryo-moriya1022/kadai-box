{
  "cells": [
    {
      "attachments": {},
      "cell_type": "markdown",
      "metadata": {
        "id": "view-in-github"
      },
      "source": [
        "<a href=\"https://colab.research.google.com/github/kiryu-3/Prmn2023/blob/main/Python/Python_Basic/question/PythonBasic_7_Question.ipynb\" target=\"_parent\"><img src=\"https://colab.research.google.com/assets/colab-badge.svg\" alt=\"Open In Colab\"/></a>"
      ]
    },
    {
      "attachments": {},
      "cell_type": "markdown",
      "metadata": {
        "id": "JR-0wWX5GOz4"
      },
      "source": [
        "# 第7章 課題"
      ]
    },
    {
      "attachments": {},
      "cell_type": "markdown",
      "metadata": {
        "id": "a-2Yu9QBGREf"
      },
      "source": [
        "## 課題1"
      ]
    },
    {
      "attachments": {},
      "cell_type": "markdown",
      "metadata": {
        "id": "icanGSBB6KCB"
      },
      "source": [
        "`ppap.txt`をアップロードしてください。  \n",
        "\n",
        "ピコ太郎さんの「PPAP」という歌の歌詞が書かれています。  \n",
        "まずはこのテキストファイルから歌詞を読み込んでください。"
      ]
    },
    {
      "attachments": {},
      "cell_type": "markdown",
      "metadata": {
        "id": "Wy8Sx90f6WTB"
      },
      "source": [
        "歌詞の単語の登場回数を数え、  \n",
        "出現回数の多い順にソートしたディクショナリを関数で返してください\n",
        "\n",
        "その後、そのディクショナリを出力してください"
      ]
    },
    {
      "attachments": {},
      "cell_type": "markdown",
      "metadata": {
        "id": "0Z2-_1dAQENU"
      },
      "source": [
        "＜実行結果＞  \n",
        "``` py\n",
        "{'pen': 8, 'i': 4, 'have': 4, 'apple': 4, 'pineapple': 4, 'a': 3, 'ppap': 1, 'an': 1}\n",
        "```"
      ]
    },
    {
      "cell_type": "code",
      "execution_count": 85,
      "metadata": {
        "id": "5DzB6nze6d65"
      },
      "outputs": [],
      "source": [
        "f=open('txtbox\\\\ppap.txt', 'r',encoding='UTF-8')\n",
        "text=f.read()\n",
        "f.close()"
      ]
    },
    {
      "cell_type": "code",
      "execution_count": 11,
      "metadata": {
        "id": "NHsFskbC6fzq"
      },
      "outputs": [
        {
          "name": "stdout",
          "output_type": "stream",
          "text": [
            "{'pen': 8, 'i': 4, 'have': 4, 'apple': 4, 'pineapple': 4, 'a': 3, 'ppap': 1, 'an': 1}\n"
          ]
        }
      ],
      "source": [
        "import string\n",
        "word=['pen','i','have','apple','pineapple','a','ppap','an']\n",
        "test_text =text#別に要らんけど消すのめんどくさかった\n",
        "test_text = test_text.replace('！', '') \n",
        "test_text = test_text.replace('-', ' ') #特殊文字を空白に変換\n",
        "test_text = test_text.translate(str.maketrans('', '', string.punctuation))#あれこらだけでもいいんじゃないって思ったけど、全角と-除去できないのね\n",
        "test_text = test_text.lower().split() #小文字変換と空白を境に分割したリストの作成\n",
        "text_dict={}\n",
        "for i in word:\n",
        "    text_dict[i]=test_text.count(i)\n",
        "d = dict(sorted(text_dict.items(), key=lambda t: t[1],reverse=True)) #リストの値のート　降順\n",
        "print(d)"
      ]
    },
    {
      "attachments": {},
      "cell_type": "markdown",
      "metadata": {
        "id": "dSQu_cY6EpMk"
      },
      "source": [
        "## 課題2"
      ]
    },
    {
      "attachments": {},
      "cell_type": "markdown",
      "metadata": {
        "id": "b-ekHtnVEwsO"
      },
      "source": [
        "`toukei_seiseki.txt`をアップロードしてください。 \n",
        "\n",
        "とある人の統計学の成績データになります。"
      ]
    },
    {
      "attachments": {},
      "cell_type": "markdown",
      "metadata": {
        "id": "L3i6Z8xg9eHr"
      },
      "source": [
        "成績評価を0~5の6段階でつけたいものとします。  \n",
        "\n",
        "|成績|点数|\n",
        "|:---| :--- |\n",
        "|$A$|5|\n",
        "|$B^{+}$|4|\n",
        "|$B$|3|\n",
        "|$B^{-}$|2|\n",
        "|$C^{+}$|1|\n",
        "|$C$|0|\n"
      ]
    },
    {
      "attachments": {},
      "cell_type": "markdown",
      "metadata": {
        "id": "EdC2oqvr9eHs"
      },
      "source": [
        "上表のように成績を変換する関数を作成してください  "
      ]
    },
    {
      "attachments": {},
      "cell_type": "markdown",
      "metadata": {
        "id": "CbT-Ni7g9eHs"
      },
      "source": [
        "この科目は、「5×全15回=最大点75点」に、  \n",
        "「全14回×50点=最大点700点を25点に圧縮したもの」の和によって成績判定を行います。"
      ]
    },
    {
      "attachments": {},
      "cell_type": "markdown",
      "metadata": {
        "id": "lrIoPU8b9eHs"
      },
      "source": [
        "適切に関数を使い、以下のデータの成績評価を行えるようにしてください\n",
        "\n",
        "\n"
      ]
    },
    {
      "attachments": {},
      "cell_type": "markdown",
      "metadata": {
        "id": "-QKViYIF9eHt"
      },
      "source": [
        "＜例＞  \n",
        "小テストの合計点は600点だったので25点満点に圧縮すると21.42点  \n",
        "課題は全て$B^+$評価だったので4×15=60点  \n",
        "合計点81.42点なので評定は「優」"
      ]
    },
    {
      "cell_type": "code",
      "execution_count": 88,
      "metadata": {
        "id": "vZ1lU1LLGX2j"
      },
      "outputs": [
        {
          "name": "stdout",
          "output_type": "stream",
          "text": [
            "['B+', 'A', 'B+', 'A', 'A', 'A', 'A', 'A', 'B+', 'A', 'A', 'B+', 'A', 'B+', 'A']\n",
            "['50', '50', '50', '15', '40', '50', '50', '50', '50', '15', '45', '40', '50', '50']\n"
          ]
        }
      ],
      "source": [
        "file=open('txtbox\\\\toukei_seiseki.txt','r',encoding='UTF-8')\n",
        "del_word=[\"\\n\",\"小テスト\",\"課題\",\"[\",\"]\",\"\",'\"']\n",
        "clean_data =[]\n",
        "data=file.readlines()\n",
        "for i in del_word:\n",
        "    data[0]=data[0].replace(i,\"\") #無駄な文字を消去し、コンマを変更した空白を用いリストを分化\n",
        "    data[0]=data[0].replace(\",\",\" \")\n",
        "    data[1]=data[1].replace(i,\"\")\n",
        "    data[1]=data[1].replace(\",\",\" \")\n",
        "kadai=data[0]\n",
        "syotest=data[1]\n",
        "kadai=kadai.split()\n",
        "syotest=syotest.split()\n",
        "print(kadai)\n",
        "print(syotest)\n",
        "file.close()\n"
      ]
    },
    {
      "cell_type": "code",
      "execution_count": 83,
      "metadata": {
        "id": "B6heQ-a8Fk2C"
      },
      "outputs": [
        {
          "name": "stdout",
          "output_type": "stream",
          "text": [
            "91.60714285714286\n"
          ]
        }
      ],
      "source": [
        "hyouka_base={\"A\":5,\"B+\":4,\"B\":3,\"B-\":2,\"C+\":1,\"C\":0}\n",
        "kadai_result=[]\n",
        "syotest_result=[]\n",
        "test_result=[int(i) for i in syotest] #整数系に変換\n",
        "for i in kadai:\n",
        "    syotest_result.append(hyouka_base[i]) #小テスト結果を点数に変換\n",
        "assyuku_test=sum(test_result)/28 #圧縮\n",
        "seiseki=assyuku_test+sum(syotest_result)\n",
        "print(seiseki)"
      ]
    },
    {
      "attachments": {},
      "cell_type": "markdown",
      "metadata": {
        "id": "E8ZRqBlkGW2D"
      },
      "source": [
        "### 課題2 補足"
      ]
    },
    {
      "attachments": {},
      "cell_type": "markdown",
      "metadata": {
        "id": "s4IPiuNZGd96"
      },
      "source": [
        "文字列を置換したいときは**`replace`メソッド**を使います。  \n",
        "\n",
        "複数回行いたいときは`replace`メソッドを複数回続けます。"
      ]
    },
    {
      "cell_type": "code",
      "execution_count": null,
      "metadata": {
        "colab": {
          "base_uri": "https://localhost:8080/"
        },
        "id": "83OyhJkDGupg",
        "outputId": "f242a522-4daf-4bf7-a2ec-76a9b2b8c04a"
      },
      "outputs": [
        {
          "name": "stdout",
          "output_type": "stream",
          "text": [
            "['可', '良', '優', '秀']\n"
          ]
        }
      ],
      "source": [
        "hantei_list = [\"60\",\"70\",\"80\",\"90\"]\n",
        "kekka_list = []\n",
        "\n",
        "\"\"\"\n",
        "リストから要素を取り出して指定の値を置換する\n",
        "\"\"\"\n",
        "for hantei in hantei_list:\n",
        "  hantei = hantei.replace(\"60\",\"可\").replace(\"70\",\"良\").replace(\"80\",\"優\").replace(\"90\",\"秀\")\n",
        "  kekka_list.append(hantei)\n",
        "\n",
        "print(kekka_list)"
      ]
    },
    {
      "attachments": {},
      "cell_type": "markdown",
      "metadata": {
        "id": "ImanFioRIU6F"
      },
      "source": [
        "## 課題3"
      ]
    },
    {
      "attachments": {},
      "cell_type": "markdown",
      "metadata": {
        "id": "9Q_HBLgfIXVf"
      },
      "source": [
        "`all_seiseki.txt`をアップロードしてください。 \n",
        "\n",
        "とある人の2年春学期までの成績データになります。"
      ]
    },
    {
      "attachments": {},
      "cell_type": "markdown",
      "metadata": {
        "id": "wimEVJZUMWoL"
      },
      "source": [
        "GPAを計算したいものとします。  \n",
        "成績に付与されるGPは以下の通りです。\n",
        "\n",
        "|成績|GP|\n",
        "|:---| :--- |\n",
        "|秀|4|\n",
        "|優|3|\n",
        "|良|2|\n",
        "|可|1|\n",
        "|不可|0|"
      ]
    },
    {
      "attachments": {},
      "cell_type": "markdown",
      "metadata": {
        "id": "vLfMefKLNZsq"
      },
      "source": [
        "上表のように成績を変換する関数を作成してください "
      ]
    },
    {
      "attachments": {},
      "cell_type": "markdown",
      "metadata": {
        "id": "pJ-Cltm9NbZ6"
      },
      "source": [
        "GPAの計算式は以下の通りです。  \n",
        "$$\n",
        "GPA = \\frac{(GP×そのGPの単位数) の合計}{履修単位数} \n",
        "$$"
      ]
    },
    {
      "attachments": {},
      "cell_type": "markdown",
      "metadata": {
        "id": "k_jm9pzkOFAw"
      },
      "source": [
        "適切に関数を使い、テキストデータのGPAを算出してください"
      ]
    },
    {
      "cell_type": "code",
      "execution_count": 1,
      "metadata": {
        "id": "4_KjT73rJAkT"
      },
      "outputs": [
        {
          "name": "stdout",
          "output_type": "stream",
          "text": [
            "['キャリア形成Ａ１Ａ', '千歳学Ａ', '言語リテラシー１Ａ', '理工学基礎実験１Ａ', 'スポーツ総合１Ａ', '健康科学Ａ・Ｂ']\n",
            "['物理学入門Ａ・Ｂ', '化学入門Ａ・Ｂ', 'エレクトロニクス入門Ａ・Ｂ', '情報学基礎演習Ａ', 'キャリア形成Ａ１Ａ', '千歳学Ａ', '言語リテラシー１Ａ', '微分積分学ⅠＡ', '理工学基礎実験１Ａ', '理系のための基礎英語ⅠＡ', '日本国憲法遠隔', 'スポーツ総合１Ａ', '健康科学Ａ・Ｂ']\n",
            "['良', '秀', '秀', '秀', '秀', '秀', '秀', '優', '優', '秀', '秀', '優', '優']\n"
          ]
        }
      ],
      "source": [
        "file=open('txtbox\\\\all_seiseki.txt','r',encoding='UTF-8')\n",
        "del_word=[\"\\n\",\"one_unit_class\",\"seiseki_data\",\"[\",\"]\",'\"',\"=\",\"(\",\")\",\"（\",\"）\",\"授業\",'成績']\n",
        "clean_data =[]\n",
        "data=file.readlines()\n",
        "for i in del_word:\n",
        "    data[0]=data[0].replace(i,\"\") #無駄な文字を消去し、コンマを変更した空白を用いリストを分化\n",
        "    data[0]=data[0].replace(\",\",\" \")\n",
        "    data[1]=data[1].replace(i,\"\")\n",
        "    data[1]=data[1].replace(\",\",\" \")\n",
        "    data[2]=data[2].replace(i,\"\")\n",
        "    data[2]=data[2].replace(\",\",\" \")\n",
        "one_unit_class=data[0].split()\n",
        "zyugyo=data[1].split()\n",
        "seiseki_str=data[2].split()\n",
        "print(one_unit_class)\n",
        "print(zyugyo)\n",
        "print(seiseki_str)\n",
        "file.close()"
      ]
    },
    {
      "cell_type": "code",
      "execution_count": 2,
      "metadata": {
        "id": "LiCCAoDqJA5r"
      },
      "outputs": [
        {
          "name": "stdout",
          "output_type": "stream",
          "text": [
            "{'物理学入門Ａ・Ｂ': 4, '化学入門Ａ・Ｂ': 8, 'エレクトロニクス入門Ａ・Ｂ': 8, '情報学基礎演習Ａ': 8, 'キャリア形成Ａ１Ａ': 4, '千歳学Ａ': 4, '言語リテラシー１Ａ': 4, '微分積分学ⅠＡ': 6, '理工学基礎実験１Ａ': 3, '理系のための基礎英語ⅠＡ': 8, '日本国憲法遠隔': 8, 'スポーツ総合１Ａ': 3, '健康科学Ａ・Ｂ': 3}\n",
            "3.55\n"
          ]
        }
      ],
      "source": [
        "seiseki_change={\"秀\":4,\"優\":3,\"良\":2,\"可\":1,\"不可\":0}\n",
        "mytwo_unit_class=[]\n",
        "myone_unit_class=[]\n",
        "seiseki_int=[]\n",
        "for i in zyugyo:\n",
        "    if i in one_unit_class:            #とってる授業で一単位のものと二単位のものを分ける\n",
        "        myone_unit_class.append(i)\n",
        "    else:\n",
        "        mytwo_unit_class.append(i)\n",
        "for i in seiseki_str:\n",
        "    seiseki_int.append(seiseki_change[i])#成績を点数に変えてる\n",
        "seiseki_dict=dict(zip(zyugyo,seiseki_int))\n",
        "for i in mytwo_unit_class:\n",
        "    seiseki_dict[i]=seiseki_dict[i]*2#一単位以外の授業の値をにばいにしているよ\n",
        "GPA=sum(list(seiseki_dict.values()))/(len(myone_unit_class)+len(mytwo_unit_class)*2)#単位数に合わせる掛け算\n",
        "print(seiseki_dict)\n",
        "print(GPA)"
      ]
    },
    {
      "cell_type": "code",
      "execution_count": null,
      "metadata": {
        "id": "AUVzFPP1JJlO"
      },
      "outputs": [],
      "source": [
        "# 参考 成績データの空ディクショナリ\n",
        "seiseki_data = {\"授業\":[],\"成績\":[]}"
      ]
    }
  ],
  "metadata": {
    "colab": {
      "provenance": []
    },
    "kernelspec": {
      "display_name": "Python 3",
      "name": "python3"
    },
    "language_info": {
      "codemirror_mode": {
        "name": "ipython",
        "version": 3
      },
      "file_extension": ".py",
      "mimetype": "text/x-python",
      "name": "python",
      "nbconvert_exporter": "python",
      "pygments_lexer": "ipython3",
      "version": "3.11.3"
    }
  },
  "nbformat": 4,
  "nbformat_minor": 0
}
