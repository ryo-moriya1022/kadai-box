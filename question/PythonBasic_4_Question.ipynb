{
  "cells": [
    {
      "attachments": {},
      "cell_type": "markdown",
      "metadata": {
        "id": "TA5kKi-LY1xg"
      },
      "source": [
        "<a href=\"https://colab.research.google.com/github/kiryu-3/Prmn2023/blob/main/Python/Python_Basic/question/PythonBasic_4_Question.ipynb\" target=\"_parent\"><img src=\"https://colab.research.google.com/assets/colab-badge.svg\" alt=\"Open In Colab\"/></a>"
      ]
    },
    {
      "attachments": {},
      "cell_type": "markdown",
      "metadata": {
        "id": "r-kcfL2yEU8b"
      },
      "source": [
        "# 第4章 課題"
      ]
    },
    {
      "attachments": {},
      "cell_type": "markdown",
      "metadata": {
        "id": "UqgRlaNaaWsU"
      },
      "source": [
        "## 課題1"
      ]
    },
    {
      "attachments": {},
      "cell_type": "markdown",
      "metadata": {
        "id": "dMngS2Dtai7U"
      },
      "source": [
        "10から2800まで、10飛ばしの数を乱数で生成し、2220000に足してください。  \n",
        "\n",
        "この数を5つ生成し、一つのリストに格納した後、最終的に頭に\"b\"をつけて5つ出力してください。"
      ]
    },
    {
      "attachments": {},
      "cell_type": "markdown",
      "metadata": {
        "id": "Ys4Y3shObw3w"
      },
      "source": [
        "＜実行結果例＞\n",
        "``` py  \n",
        "['b2220940', 'b2222010', 'b2224650', 'b2227390', 'b2229790']\n",
        "```"
      ]
    },
    {
      "cell_type": "code",
      "execution_count": 11,
      "metadata": {
        "id": "UaBFEY3Hdbsg"
      },
      "outputs": [
        {
          "name": "stdout",
          "output_type": "stream",
          "text": [
            "['b2220870', 'b2220940', 'b2222690', 'b2220660', 'b2222420']\n"
          ]
        }
      ],
      "source": [
        "import random as rd\n",
        "gakuseki=[]\n",
        "for i in range(5):\n",
        "    ransu=rd.randrange(10,2800,10)\n",
        "    ransu=2220000+ransu\n",
        "    gakuseki.append(\"b\"+str(ransu))\n",
        "print(gakuseki)"
      ]
    },
    {
      "attachments": {},
      "cell_type": "markdown",
      "metadata": {
        "id": "yRsfay5_8FuJ"
      },
      "source": [
        "## 課題2"
      ]
    },
    {
      "attachments": {},
      "cell_type": "markdown",
      "metadata": {
        "id": "4WbYBFGr8Ht3"
      },
      "source": [
        "1桁の自然数を乱数を使って5つ格納した2つのリストを作ってください。  \n",
        "この時、一つのリスト内で5つの値が重複しないようにしてください\n",
        "\n",
        "その後、対応する要素を足し合わせた新しいリストを出力してください"
      ]
    },
    {
      "attachments": {},
      "cell_type": "markdown",
      "metadata": {
        "id": "A0ImPPha84Nb"
      },
      "source": [
        "＜実行結果例＞\n",
        "``` py  \n",
        "1つ目のリスト：[1, 2, 3, 4, 5]  \n",
        "2つ目のリスト：[1, 3, 5, 7, 9]  \n",
        "足し合わせたリスト：[2, 5, 8, 11, 14]\n",
        "```"
      ]
    },
    {
      "cell_type": "code",
      "execution_count": 31,
      "metadata": {
        "id": "TaJm8jn2MHmk"
      },
      "outputs": [
        {
          "name": "stdout",
          "output_type": "stream",
          "text": [
            "[4, 3, 7, 9, 8]\n",
            "[5, 1, 7, 3, 4]\n",
            "足し合わせたリスト: [9, 4, 14, 12, 12]\n"
          ]
        }
      ],
      "source": [
        "import random as rd\n",
        "list1=[]\n",
        "list1=rd.sample(range(1,10),5)\n",
        "list2=[]\n",
        "list2=rd.sample(range(1,10),5)\n",
        "print(list1)\n",
        "print(list2)\n",
        "goukei=[sum (v) for v in zip(list1,list2)] \n",
        "print(\"足し合わせたリスト:\",goukei)"
      ]
    },
    {
      "attachments": {},
      "cell_type": "markdown",
      "metadata": {
        "id": "-qZw_n3X8xrW"
      },
      "source": [
        "## 課題3"
      ]
    },
    {
      "attachments": {},
      "cell_type": "markdown",
      "metadata": {
        "id": "vxwATeobQf_U"
      },
      "source": [
        "リストの中身を指定した数で分割してみます。\n",
        "\n",
        "以下のリストには都道府県47つが格納されています。"
      ]
    },
    {
      "cell_type": "code",
      "execution_count": 21,
      "metadata": {
        "id": "8ZdyRWbERGAY"
      },
      "outputs": [],
      "source": [
        "todohuken_list = [\n",
        "    '北海道', '青森県', '岩手県', '宮城県', '秋田県', '山形県', '福島県', '茨城県', '栃木県', '群馬県', \n",
        "    '埼玉県', '千葉県', '東京都', '神奈川県', '新潟県', '富山県', '石川県', '福井県', '山梨県', '長野県', \n",
        "    '岐阜県', '静岡県', '愛知県', '三重県', '滋賀県', '京都府', '大阪府', '兵庫県', '奈良県', '和歌山県', \n",
        "    '鳥取県', '島根県', '岡山県', '広島県', '山口県', '徳島県', '香川県', '愛媛県', '高知県',  '福岡県', \n",
        "    '佐賀県', '長崎県', '熊本県', '大分県', '宮崎県', '鹿児島県', '沖縄県',\n",
        "]"
      ]
    },
    {
      "attachments": {},
      "cell_type": "markdown",
      "metadata": {
        "id": "tGPa1uU6Qs2c"
      },
      "source": [
        "  \n",
        "これをランダムに1つのリストのサイズを4として分割してください"
      ]
    },
    {
      "attachments": {},
      "cell_type": "markdown",
      "metadata": {
        "id": "PWLTwz0TXzm_"
      },
      "source": [
        "＜実行結果例＞  \n",
        "``` py \n",
        "[['宮崎県', '茨城県', '栃木県', '千葉県'], … , ['岩手県', '滋賀県', '宮城県']]\n",
        "```"
      ]
    },
    {
      "cell_type": "code",
      "execution_count": 23,
      "metadata": {
        "id": "rgPlOseCTC_h"
      },
      "outputs": [
        {
          "name": "stdout",
          "output_type": "stream",
          "text": [
            "[['愛知県', '鹿児島県', '青森県', '広島県'], ['奈良県', '岩手県', '高知県', '山形県'], ['秋田県', '山梨県', '石川県', '愛媛県'], ['栃木県', '兵庫県', '富山県', '長野県'], ['島根県', '千葉県', '福島県', '群馬県'], ['和歌山県', '大阪府', '東京都', '岐阜県'], ['神奈川県', '徳島県', '宮崎県', '沖縄県'], ['長崎県', '大分県', '宮城県', '佐賀県'], ['鳥取県', '滋賀県', '静岡県', '福岡県'], ['香川県', '茨城県', '福井県', '北海道'], ['埼玉県', '岡山県', '山口県', '三重県'], ['新潟県', '京都府', '熊本県']]\n"
          ]
        }
      ],
      "source": [
        "import random\n",
        "def split(lst, n):\n",
        "    bunkatu=[]\n",
        "    for i in range(0, len(lst), n):\n",
        "        bunkatu.append(lst[i:i+n])\n",
        "    return bunkatu\n",
        "n=4\n",
        "random.shuffle(todohuken_list)\n",
        "bunkatu=split(todohuken_list, n)\n",
        "print(bunkatu)\n"
      ]
    },
    {
      "attachments": {},
      "cell_type": "markdown",
      "metadata": {
        "id": "W573lh39MOlj"
      },
      "source": [
        "## 課題4"
      ]
    },
    {
      "attachments": {},
      "cell_type": "markdown",
      "metadata": {
        "id": "sSIMKY-aNcIx"
      },
      "source": [
        "ある大学の名前と年齢が、次のような形式で格納されたリスト `university_list` があります。"
      ]
    },
    {
      "cell_type": "code",
      "execution_count": 27,
      "metadata": {
        "id": "v-wGyWuKK3wl"
      },
      "outputs": [],
      "source": [
        "university_list = [\n",
        "    \"Chitose,25\",\n",
        "    \"Hokudai,105\",\n",
        "    \"Muroran,74\",\n",
        "    \"Hakodate,23\",\n",
        "]"
      ]
    },
    {
      "attachments": {},
      "cell_type": "markdown",
      "metadata": {
        "id": "XIxDf9QgO1iH"
      },
      "source": [
        "このリストを、年齢順にソートして、新たなリストとして出力してください"
      ]
    },
    {
      "attachments": {},
      "cell_type": "markdown",
      "metadata": {
        "id": "0Z2-_1dAQENU"
      },
      "source": [
        "＜実行結果＞  \n",
        "``` py\n",
        "['Chitose,25', 'Hokudai,105', 'Muroran,74', 'Hakodate,23']\n",
        "['Hakodate,23', 'Chitose,25', 'Muroran,74', 'Hokudai,105']\n",
        "```"
      ]
    },
    {
      "cell_type": "code",
      "execution_count": 52,
      "metadata": {
        "id": "ficNVfkgR5Kv"
      },
      "outputs": [
        {
          "name": "stdout",
          "output_type": "stream",
          "text": [
            "['Hakodate,23', 'Chitose,25', 'Muroran,74', 'Hokudai,105']\n"
          ]
        }
      ],
      "source": [
        "number=[]\n",
        "result_list=[]\n",
        "for i in range(4):\n",
        "    university=university_list[i]\n",
        "    str_number=university.split((\",\"))\n",
        "    number.append(int(str_number[1]))\n",
        "university_dict=dict(zip(number,university_list))\n",
        "university_dict=sorted(university_dict.items())\n",
        "for i in range(4):\n",
        "    result_list.append(university_dict[i][1])\n",
        "print(result_list)"
      ]
    },
    {
      "attachments": {},
      "cell_type": "markdown",
      "metadata": {
        "id": "QijnXk7UWAVC"
      },
      "source": [
        "## 課題5"
      ]
    },
    {
      "attachments": {},
      "cell_type": "markdown",
      "metadata": {
        "id": "m7F47Q1mWCA6"
      },
      "source": [
        "**FizzBuzz（フィズ・バズ）問題**という問題について解いていきます。\n",
        "\n",
        "もともとは、英語圏で長距離ドライブ中や飲み会の時に行われる言葉遊びです。"
      ]
    },
    {
      "attachments": {},
      "cell_type": "markdown",
      "metadata": {
        "id": "fArw0VcNWgwZ"
      },
      "source": [
        "以下のような問題になります。\n",
        "\n",
        "1～Nまでの整数を順に出力しなさい。ただし、例外として以下のルールを守ること。\n",
        "\n",
        "* 3で割り切れる数字の場合は\"Fizz\"を出力\n",
        "* 5で割り切れる数字の場合は\"Buzz\"を出力\n",
        "* どちらでも割り切れる数字の場合は\"FizzBuzz\"を出力"
      ]
    },
    {
      "attachments": {},
      "cell_type": "markdown",
      "metadata": {
        "id": "SYqkpYstWm7Z"
      },
      "source": [
        "ここではN=100として、まずは一つのリストに\n",
        "\"Fizz\" か \"Buzz\" か \"FizzBuzz\" か \"others\" を格納してください。\n",
        "\n",
        "その後、それぞれの要素の数をカウントしてください。"
      ]
    },
    {
      "attachments": {},
      "cell_type": "markdown",
      "metadata": {
        "id": "OqLuJTcWYzFt"
      },
      "source": [
        "＜実行結果＞  \n",
        "``` py\n",
        "FizzBuzzの数：6 \n",
        "Fizzの数：27 \n",
        "Buzzの数：14\n",
        "othersの数：53  \n",
        "```"
      ]
    },
    {
      "cell_type": "code",
      "execution_count": 54,
      "metadata": {
        "id": "5kEDaVLmaEpb"
      },
      "outputs": [
        {
          "name": "stdout",
          "output_type": "stream",
          "text": [
            "other\n",
            "other\n",
            "Fizz\n",
            "other\n",
            "Buzz\n",
            "Fizz\n",
            "other\n",
            "other\n",
            "Fizz\n",
            "Buzz\n",
            "other\n",
            "Fizz\n",
            "other\n",
            "other\n",
            "FizzBuzz\n",
            "other\n",
            "other\n",
            "Fizz\n",
            "other\n",
            "Buzz\n",
            "Fizz\n",
            "other\n",
            "other\n",
            "Fizz\n",
            "Buzz\n",
            "other\n",
            "Fizz\n",
            "other\n",
            "other\n",
            "FizzBuzz\n",
            "other\n",
            "other\n",
            "Fizz\n",
            "other\n",
            "Buzz\n",
            "Fizz\n",
            "other\n",
            "other\n",
            "Fizz\n",
            "Buzz\n",
            "other\n",
            "Fizz\n",
            "other\n",
            "other\n",
            "FizzBuzz\n",
            "other\n",
            "other\n",
            "Fizz\n",
            "other\n",
            "Buzz\n",
            "Fizz\n",
            "other\n",
            "other\n",
            "Fizz\n",
            "Buzz\n",
            "other\n",
            "Fizz\n",
            "other\n",
            "other\n",
            "FizzBuzz\n",
            "other\n",
            "other\n",
            "Fizz\n",
            "other\n",
            "Buzz\n",
            "Fizz\n",
            "other\n",
            "other\n",
            "Fizz\n",
            "Buzz\n",
            "other\n",
            "Fizz\n",
            "other\n",
            "other\n",
            "FizzBuzz\n",
            "other\n",
            "other\n",
            "Fizz\n",
            "other\n",
            "Buzz\n",
            "Fizz\n",
            "other\n",
            "other\n",
            "Fizz\n",
            "Buzz\n",
            "other\n",
            "Fizz\n",
            "other\n",
            "other\n",
            "FizzBuzz\n",
            "other\n",
            "other\n",
            "Fizz\n",
            "other\n",
            "Buzz\n",
            "Fizz\n",
            "other\n",
            "other\n",
            "Fizz\n",
            "Buzz\n",
            "FizzBuzzの数: 6\n",
            "Buzzの数: 27\n",
            "Fizzの数: 14\n",
            "otherの数: 53\n"
          ]
        }
      ],
      "source": [
        "N=100\n",
        "FizzBuzz=0\n",
        "Fizz=0\n",
        "Buzz=0\n",
        "other=0\n",
        "for i in range(1,N+1):\n",
        "    if i%3==0 and i%5==0:\n",
        "        print(\"FizzBuzz\")\n",
        "        FizzBuzz=FizzBuzz+1\n",
        "    elif i%3==0:   \n",
        "        print(\"Fizz\")\n",
        "        Fizz=Fizz+1\n",
        "    elif i%5==0:\n",
        "        print(\"Buzz\")\n",
        "        Buzz=Buzz+1\n",
        "    else:\n",
        "        print(\"other\")\n",
        "        other=other+1\n",
        "print(\"FizzBuzzの数:\",FizzBuzz)\n",
        "print(\"Buzzの数:\",Fizz)\n",
        "print(\"Fizzの数:\",Buzz)\n",
        "print(\"otherの数:\",other)"
      ]
    }
  ],
  "metadata": {
    "colab": {
      "provenance": []
    },
    "kernelspec": {
      "display_name": "Python 3",
      "name": "python3"
    },
    "language_info": {
      "name": "python",
      "version": "3.11.3"
    }
  },
  "nbformat": 4,
  "nbformat_minor": 0
}
