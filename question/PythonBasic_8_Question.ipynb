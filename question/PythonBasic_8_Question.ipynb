{
  "cells": [
    {
      "attachments": {},
      "cell_type": "markdown",
      "metadata": {
        "id": "IoLAPliGuLZM"
      },
      "source": [
        "<a href=\"https://colab.research.google.com/github/kiryu-3/Prmn2023/blob/main/Python/Python_Basic/question/PythonBasic_8_Question.ipynb\" target=\"_parent\"><img src=\"https://colab.research.google.com/assets/colab-badge.svg\" alt=\"Open In Colab\"/></a>"
      ]
    },
    {
      "attachments": {},
      "cell_type": "markdown",
      "metadata": {
        "id": "ZFQrSJHsZEns"
      },
      "source": [
        "# オブジェクト指向1 課題"
      ]
    },
    {
      "attachments": {},
      "cell_type": "markdown",
      "metadata": {
        "id": "1DGEULJlZLkL"
      },
      "source": [
        "## 課題1"
      ]
    },
    {
      "attachments": {},
      "cell_type": "markdown",
      "metadata": {
        "id": "he1ry54qZP56"
      },
      "source": [
        "以下の要件を満たすクラスを作成してください"
      ]
    },
    {
      "attachments": {},
      "cell_type": "markdown",
      "metadata": {
        "id": "PkJ0b9znZUMi"
      },
      "source": [
        "**指示**\n",
        "\n",
        "・ moveメソッド内で「歩いたよ」と出力するInsectクラスを作る  \n",
        "・ moveメソッド内で「飛んだよ」と出力するButterflyクラスを作る     \n",
        "・ moveメソッド内で「跳んだよ」と出力するLocustクラスを作る   \n",
        "・ moveメソッド内で「綺麗に飛んだよ」と出力するSwallowtailButterflyクラスを作る  \n",
        "\n",
        "\n",
        "\n"
      ]
    },
    {
      "attachments": {},
      "cell_type": "markdown",
      "metadata": {
        "id": "MOz_aUO4cj-9"
      },
      "source": [
        "4つのクラスのインスタンスをリストinsect_listに格納してください。  \n",
        "その後、格納した4つのインスタンスからmoveメソッドを呼び出してください。"
      ]
    },
    {
      "cell_type": "code",
      "execution_count": 7,
      "metadata": {
        "id": "p1fSdDIhrYbf"
      },
      "outputs": [
        {
          "name": "stdout",
          "output_type": "stream",
          "text": [
            "歩いたよ\n",
            "飛んだよ\n",
            "歩いたよ\n",
            "綺麗に飛んだよ\n"
          ]
        },
        {
          "ename": "",
          "evalue": "",
          "output_type": "error",
          "traceback": [
            "\u001b[1;31m現在のセルまたは前のセルでコードを実行中に、カーネルがクラッシュしました。エラーの原因を特定するには、セル内のコードを確認してください。詳細については、<a href='https://aka.ms/vscodeJupyterKernelCrash'>こちら</a> をクリックしてください。さらなる詳細については、Jupyter [log] (command:jupyter.viewOutput) を参照してください。"
          ]
        }
      ],
      "source": [
        "class insect:\n",
        "    def move(self):\n",
        "        print(\"歩いたよ\")\n",
        "class butterfly:\n",
        "    def move(self):\n",
        "        print(\"飛んだよ\")\n",
        "class locust:\n",
        "    def move(self):\n",
        "        print(\"歩いたよ\")\n",
        "class swallowtailbutterfly:\n",
        "    def move(self):\n",
        "        print(\"綺麗に飛んだよ\")\n",
        "list1=[insect, butterfly, locust, swallowtailbutterfly]\n",
        "for i in list1:\n",
        "    instance=i() #instance is 何？？　アドレスみたいなもん？？\n",
        "    instance.move()\n"
      ]
    },
    {
      "attachments": {},
      "cell_type": "markdown",
      "metadata": {
        "id": "sxV6gRm8djFh"
      },
      "source": [
        "## 課題2\n",
        "\n"
      ]
    },
    {
      "attachments": {},
      "cell_type": "markdown",
      "metadata": {
        "id": "AXc3PV3ddkyJ"
      },
      "source": [
        "以下の要件を満たすクラスを作成してください"
      ]
    },
    {
      "attachments": {},
      "cell_type": "markdown",
      "metadata": {
        "id": "kvvx9u5Kdh8i"
      },
      "source": [
        "**指示**\n",
        "\n",
        "・ クラス名は Car、属性として変数fuelを持つ  \n",
        "\n",
        "・ 引数なしコンストラクタでfuelを0で初期化する \n",
        "\n",
        "・ メソッドとして戻り値、引数無しのrun() を持つ \n",
        "\n",
        "・ run()メソッドではfuelを1消費して、走ったことが分かる文言を表示させる  \n",
        "     \t  　(例:  \"燃料を1消費して走りました。\") \n",
        "\t\t\t\t  \n",
        "・ fuelが0以下の時走れなかったことが分かる文言を表示させる\n",
        "        \n",
        "\n",
        "\n"
      ]
    },
    {
      "attachments": {},
      "cell_type": "markdown",
      "metadata": {
        "id": "SZD3JsY_dUZc"
      },
      "source": [
        "Carに給油をするGasStationクラスを作成してください    \n",
        "\n",
        "・ クラス名はGasStation、コンストラクタ無し\n",
        "\n",
        "・ refuel()メソッドを持つ  \n",
        "\n",
        "・ refuel()ではCarのfuelを20増やす  \n",
        "\n",
        "・ refuel()では給油したことが分かる文言を表示する"
      ]
    },
    {
      "attachments": {},
      "cell_type": "markdown",
      "metadata": {
        "id": "mtvFz04Dc4bl"
      },
      "source": [
        "CarとGasStationをインスタンス化し、  \n",
        "GasStationで給油をする前と後でCarのrun()を呼び出してください"
      ]
    },
    {
      "attachments": {},
      "cell_type": "markdown",
      "metadata": {
        "id": "Hk4WYMCXMtf1"
      },
      "source": [
        "＜メイン部分のコード（固定）＞"
      ]
    },
    {
      "cell_type": "code",
      "execution_count": null,
      "metadata": {
        "id": "1j_9Ub9ZMuNE"
      },
      "outputs": [],
      "source": [
        "car = Car()\n",
        "gasstation = GasStation()\n",
        "\n",
        "car.run()\n",
        "gasstation.refuel(car)\n",
        "car.run()"
      ]
    },
    {
      "attachments": {},
      "cell_type": "markdown",
      "metadata": {
        "id": "RNXwj-VBeFPQ"
      },
      "source": [
        "＜実行結果例＞\n",
        "\n",
        "```\n",
        "燃料が足りないため走れませんでした。\n",
        "給油したことによりfuelが20増えました。\n",
        "燃料を1消費して走りました。\n",
        "```"
      ]
    },
    {
      "cell_type": "code",
      "execution_count": 14,
      "metadata": {
        "id": "jpQTz1Kxra7P"
      },
      "outputs": [
        {
          "name": "stdout",
          "output_type": "stream",
          "text": [
            "燃料がないため走れません\n",
            "給油したことによりfuelが20増えました\n",
            "燃料を1消費して走りました\n"
          ]
        }
      ],
      "source": [
        "class Car:\n",
        "    def __init__(self):\n",
        "        self.fuel =0\n",
        "    def run(self):\n",
        "        if self.fuel>0:\n",
        "            self.fuel=self.fuel-1\n",
        "            print(\"燃料を1消費して走りました\")\n",
        "        else:\n",
        "            print(\"燃料がないため走れません\")\n",
        "class GasStation:\n",
        "    def refuel(self,car): #selfってなに\n",
        "        car.fuel=car.fuel+20\n",
        "        print(\"給油したことによりfuelが20増えました\")\n",
        "\n",
        "car =Car()\n",
        "gasstation = GasStation()\n",
        "car.run()\n",
        "gasstation.refuel(car)\n",
        "car.run()\n",
        "\n",
        "        \n"
      ]
    },
    {
      "attachments": {},
      "cell_type": "markdown",
      "metadata": {
        "id": "GCHVpQ4aV_UR"
      },
      "source": [
        "## 課題3"
      ]
    },
    {
      "attachments": {},
      "cell_type": "markdown",
      "metadata": {},
      "source": []
    },
    {
      "attachments": {},
      "cell_type": "markdown",
      "metadata": {
        "id": "ECrnt9e5WJSc"
      },
      "source": [
        "以下の要件を満たすクラスを作成してください"
      ]
    },
    {
      "attachments": {},
      "cell_type": "markdown",
      "metadata": {
        "id": "SA6Tbw_lXehC"
      },
      "source": [
        "**指示**\n",
        "\n",
        "口座情報を管理するAccountクラスを作成してください  \n",
        "\n",
        "・ name（名前）, number（口座番号）, balance（残高）を属性にもつ  \n",
        "\n",
        "・ コンストラクタでは、balanceを0で初期化する\n",
        "\n"
      ]
    },
    {
      "attachments": {},
      "cell_type": "markdown",
      "metadata": {
        "id": "M2FE_MUndc4z"
      },
      "source": [
        "銀行でのお金のやり取りを行うATMクラスを作成してください  \n",
        "\n",
        "・ ATMのコンストラクタでAccountのインスタンスを管理するaccountsを初期化する \n",
        "\n",
        "・ register_account()メソッドではアカウントを登録する    \n",
        " 　 この中でAccountクラスをnameとnubmerを引数としてインスタンス化する  \n",
        "\n",
        "・ exists_account()メソッドは引数のnameとnumberから    \n",
        "   　 accountsに存在するかどうかをbooleanで返す  \n",
        "\n",
        "・ deposit()メソッドでは引数のmoneyを使って入金を行う  \n",
        "\n",
        "・ withdraw()メソッドでは引数のmoneyを使って引出を行う    \n",
        " 　 残高が足りないときには行えないようにする\n",
        "        \n"
      ]
    },
    {
      "attachments": {},
      "cell_type": "markdown",
      "metadata": {
        "id": "-tmD0hewdiS1"
      },
      "source": [
        "それぞれ何か行うたびに、何をしたか分かるように標準出力で表示するようにしてください"
      ]
    },
    {
      "attachments": {},
      "cell_type": "markdown",
      "metadata": {
        "id": "fr8xuuUHM7Jt"
      },
      "source": [
        "＜メイン部分のコード（固定）＞"
      ]
    },
    {
      "cell_type": "code",
      "execution_count": null,
      "metadata": {
        "id": "Y4lMggHOM4wU"
      },
      "outputs": [],
      "source": [
        "atm = ATM()\n",
        "\n",
        "atm.exists_account(\"千歳太郎\",\"12345\")\n",
        "atm.resister_account(\"千歳太郎\",\"12345\")\n",
        "\n",
        "if atm.exists_account(\"千歳太郎\",\"12345\"):\n",
        "  atm.deposit(\"12345\", 1000)\n",
        "  atm.withdraw(\"12345\", 2000)\n",
        "  atm.withdraw(\"12345\", 500)"
      ]
    },
    {
      "attachments": {},
      "cell_type": "markdown",
      "metadata": {
        "id": "0zUHE9eHe5-Z"
      },
      "source": [
        "＜実行結果例＞\n",
        "\n",
        "```\n",
        "名前:千歳太郎 口座番号:12345 は存在しません。\n",
        "千歳太郎 さんのアカウントを口座番号:12345 で登録しました。\n",
        "名前:千歳太郎 口座番号:12345 は存在します。\n",
        "口座番号:12345 に1000 円入金しました。\n",
        "口座番号:12345 から2000 円引き出せませんでした。残高:1000 円です。\n",
        "口座番号:12345 から500 円引き出しました。残高:500 円です。\n",
        "```"
      ]
    },
    {
      "cell_type": "code",
      "execution_count": 35,
      "metadata": {
        "id": "ckaSfHW4rbt-"
      },
      "outputs": [
        {
          "name": "stdout",
          "output_type": "stream",
          "text": [
            "名前:ryo 口座番号:1234は存在します\n",
            "口座番号:1234に1000円入金しました\n",
            "口座番号:1234に1000円出金しました 残高:0円\n",
            "口座番号:1234に1000円出金できませんでした 残高:0円\n"
          ]
        }
      ],
      "source": [
        "class Account:\n",
        "    def __init__(self):\n",
        "        self.balance=0 #インスタンス化はクラスを開くときに一回作用するもの\n",
        "    def number(self,numbers):\n",
        "        self.number=numbers\n",
        "    def name(self,names):\n",
        "        self.name=names\n",
        "class ATM:\n",
        "    def __init__(self):\n",
        "        self.accounts=[]\n",
        "    def register_accounts(self,names,numbers):\n",
        "        my_account=Account() #ここでアカウント設計図から個人のアカウントを作り、\n",
        "        my_account.name(names) #それに対応する名前を保存！！\n",
        "        my_account.number(numbers)#my_accountに名前とかが入ってる状態でリストにゴー\n",
        "        self.accounts.append(my_account)\n",
        "    def exists_accounts(self,names,numbers):\n",
        "        for check in range(len(self.accounts)):\n",
        "            if names==self.accounts[check].name and numbers==self.accounts[check].number:\n",
        "                print(\"名前:{} 口座番号:{}は存在します\".format(names,numbers))\n",
        "                return True\n",
        "            else:\n",
        "                print(\"名前:{} 口座番号:{}は存在しません\".format(names,numbers))\n",
        "                return False\n",
        "    def deposit(self,number,money):\n",
        "        for check in range(len(self.accounts)):\n",
        "            if number==self.accounts[check].number:\n",
        "                break\n",
        "        self.accounts[check].balance=self.accounts[check].balance+money\n",
        "        print(\"口座番号:{}に{}円入金しました\".format(number,money))\n",
        "    def withdraw(self,number,money):\n",
        "        for check in range(len(self.accounts)):\n",
        "            if number==self.accounts[check].number:\n",
        "                break\n",
        "        if money<=self.accounts[check].balance:\n",
        "            self.accounts[check].balance=self.accounts[check].balance-money\n",
        "            print(\"口座番号:{}に{}円出金しました 残高:{}円\".format(number,money,self.accounts[check].balance))\n",
        "        else:\n",
        "            print(\"口座番号:{}に{}円出金できませんでした 残高:{}円\".format(number,money,self.accounts[check].balance))\n",
        "\n",
        "atm=ATM()\n",
        "atm.register_accounts(\"ryo\",\"1234\")\n",
        "if atm.exists_accounts(\"ryo\",\"1234\"):\n",
        "    atm.deposit(\"1234\",1000)\n",
        "    atm.withdraw(\"1234\",1000)\n",
        "    atm.withdraw(\"1234\",1000)\n",
        "\n",
        "\n",
        "\n"
      ]
    }
  ],
  "metadata": {
    "colab": {
      "provenance": []
    },
    "kernelspec": {
      "display_name": "Python 3",
      "name": "python3"
    },
    "language_info": {
      "codemirror_mode": {
        "name": "ipython",
        "version": 3
      },
      "file_extension": ".py",
      "mimetype": "text/x-python",
      "name": "python",
      "nbconvert_exporter": "python",
      "pygments_lexer": "ipython3",
      "version": "3.11.3"
    }
  },
  "nbformat": 4,
  "nbformat_minor": 0
}
